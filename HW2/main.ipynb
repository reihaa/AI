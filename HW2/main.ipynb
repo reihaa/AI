{
 "cells": [
  {
   "cell_type": "markdown",
   "metadata": {},
   "source": [
    "# HW3 AI - reyhaneh derafshi - 610396098\n",
    "\n",
    "genetic algorithm, hill climbing, simulated anealing"
   ]
  },
  {
   "cell_type": "code",
   "execution_count": 3,
   "metadata": {},
   "outputs": [],
   "source": [
    "import math\n",
    "import random"
   ]
  },
  {
   "cell_type": "markdown",
   "metadata": {},
   "source": [
    "definition of ‫‪Ackley‬‬ ‫‪function‬‬, it takes a choromosome as a list of x and y and returns f(x,y)"
   ]
  },
  {
   "cell_type": "code",
   "execution_count": 4,
   "metadata": {},
   "outputs": [],
   "source": [
    "def fitness(chromosome):\n",
    "    x, y = chromosome\n",
    "    return -20 * math.exp(-0.2 * math.sqrt(0.5 * (x ** 2 + y ** 2))) - math.exp(\n",
    "        0.5 * (math.cos(math.pi * 2 * x) + math.cos(math.pi * 2 * y))) + math.exp(1) + 20\n"
   ]
  },
  {
   "cell_type": "markdown",
   "metadata": {},
   "source": [
    " (each stap has been shown in the code)\n",
    "\n",
    "### genetic algorithm :\n",
    "\n",
    "1. making our initial population by constructing pop_size of random nodes.\n",
    "2. sort our population using fitness function difined above in order to choose our parents.\n",
    "3. we take the half best of our population and choose parent_size number of it randomly.\n",
    "4. using crossover function to generate children using alpha. it poduces parent_size * parent_size children.\n",
    "5. using mutation function on every child with the probability of beta.\n",
    "6. we replace the half bad part of population by randomly selected childs from half good part of them.\n",
    "7. if iterator reaches the \"iterations\" then the program ends.\n",
    "8. the graph of the best answer in each iteration has been drawn and the final anwer has been printed."
   ]
  },
  {
   "cell_type": "code",
   "execution_count": 11,
   "metadata": {
    "scrolled": true
   },
   "outputs": [
    {
     "name": "stdout",
     "output_type": "stream",
     "text": [
      "x: 0.0 y: 0.0 f(x,y): 0.0\n"
     ]
    },
    {
     "data": {
      "image/png": "[encoded data removed]",
      "text/plain": [
       "<Figure size 432x288 with 1 Axes>"
      ]
     },
     "metadata": {
      "needs_background": "light"
     },
     "output_type": "display_data"
    }
   ],
   "source": [
    "alpha = 0.7\n",
    "beta = 0.1\n",
    "iterations = 100\n",
    "pop_size = 100\n",
    "parent_size = 10\n",
    "\n",
    "#5\n",
    "def mutation(chromosome):\n",
    "    if random.random() < beta:\n",
    "        chromosome[random.choice([0, 1])] = random.random() * 10 - 5\n",
    "\n",
    "#4        \n",
    "def crossover(parent1,parent2):\n",
    "    x1, y1 = parent1\n",
    "    x2, y2 = parent2\n",
    "    child1 = [(x1 + x2) * alpha, (y1 + y2) * alpha]\n",
    "    child2 = [(x1 + x2) * (1 - alpha), (y1 + y2) * (1- alpha)]\n",
    "    return child1, child2\n",
    "\n",
    "# 1\n",
    "population = list()\n",
    "for _ in range(pop_size):\n",
    "    population.append([random.random() * 10 - 5, random.random() * 10 - 5])\n",
    "\n",
    "bests = []\n",
    "population.sort(key=fitness)  #2\n",
    "\n",
    "for _ in range(iterations): #6   \n",
    "    parents = random.choices(population[:int(100//2)], k = parent_size)  #3\n",
    "    children = []\n",
    "    for p1 in parents:\n",
    "        for p2 in parents:\n",
    "            c1, c2 = crossover(p1, p2)  #4\n",
    "            mutation(c1)  #5\n",
    "            mutation(c2)\n",
    "            children.append(c1)\n",
    "            children.append(c2)\n",
    "    #7       \n",
    "    children.sort(key=fitness)\n",
    "    population  = population[:int(pop_size//2)] +  random.choices(children[:pop_size], k = int(pop_size//2))\n",
    "    population.sort(key=fitness)\n",
    "    bests.append(fitness(population[0]))\n",
    "    \n",
    "#8\n",
    "print(\"x:\",round(population[0][0],3),\n",
    "      \"y:\",round(population[0][1],3),\"f(x,y):\", round(fitness(population[0]),3))\n",
    "\n",
    "import matplotlib.pyplot as plt\n",
    "x = list(range(iterations))\n",
    "\n",
    "plt.plot(x, bests)\n",
    "plt.show()"
   ]
  },
  {
   "cell_type": "markdown",
   "metadata": {},
   "source": [
    "### hill climbing algorithm:\n",
    "\n",
    "we start from the root difined as [-5,-5].\n",
    "at each step root is replaced by its best succesor.\n",
    "\n",
    "we calculate the best succesor by this method:\n",
    "1. we divide the continous space by 0.01 to make discerete space.\n",
    "2. we calculate the value of three ahead neighbors of each node and return the best. (and if there wasn't any better one but there was one that was the same we return that.)\n",
    "3. if there isn't any better or same neighbor then the algorithm executes.\n",
    "\n",
    "the final answer has been returned."
   ]
  },
  {
   "cell_type": "code",
   "execution_count": 91,
   "metadata": {},
   "outputs": [
    {
     "data": {
      "text/plain": [
       "[6.245004513516506e-16, 6.245004513516506e-16]"
      ]
     },
     "execution_count": 91,
     "metadata": {},
     "output_type": "execute_result"
    }
   ],
   "source": [
    "def best_succesor(node):\n",
    "    x, y = node\n",
    "    x2,y2 = node\n",
    "    best = fitness(node)\n",
    "    \n",
    "    for I in range(0,100):\n",
    "        for J in range(0,100):\n",
    "            i = I/100\n",
    "            j = J/100\n",
    "            if abs(x+i) <= 5 and abs(y+j) <= 5:\n",
    "                temp = fitness([x+i,y+j])\n",
    "                if temp <= best:\n",
    "                    best = temp\n",
    "                    x2 = x+i\n",
    "                    y2 = y+j\n",
    "    if x == x2 and y == y2:\n",
    "        return False, [x,y]\n",
    "    else:\n",
    "        return True, [x2,y2]\n",
    "    \n",
    "\n",
    "root = [-5,-5]\n",
    "iterate = True\n",
    "\n",
    "while iterate:\n",
    "    iterate, root = best_succesor(root)\n",
    "\n",
    "root\n",
    "                "
   ]
  },
  {
   "cell_type": "markdown",
   "metadata": {},
   "source": [
    "### simulated anealing algorithm:\n",
    "\n",
    "1. function schedule decreases T by multiplying it with alpha.\n",
    "2. define initial root\n",
    "3. at each step we produce a random succesor,if it was better than our root, we replace the root.\n",
    "4. else we replace if with a probability calculated using T which decreases as the algorithm goes long.\n",
    "5. when T decreases enough until it reaches to almost zero program ends.\n",
    "6. the final result has been printed."
   ]
  },
  {
   "cell_type": "code",
   "execution_count": 81,
   "metadata": {},
   "outputs": [
    {
     "name": "stdout",
     "output_type": "stream",
     "text": [
      "\n"
     ]
    },
    {
     "data": {
      "text/plain": [
       "[0.009999999999937692, 0.009999999999937692]"
      ]
     },
     "execution_count": 81,
     "metadata": {},
     "output_type": "execute_result"
    }
   ],
   "source": [
    "def random_succesor(node):\n",
    "    x, y = node\n",
    "    x2,y2 = random.choice([(0.01,0), (0,0.01), (0.01,0.01)])\n",
    "    return [x+x2, y+y2]\n",
    "    \n",
    "def schedule(T):\n",
    "    alpha = 0.995\n",
    "    return T * alpha\n",
    "\n",
    "t = 0\n",
    "T = 400\n",
    "current = [-5,-5]\n",
    "while True:\n",
    "    \n",
    "    t += 1\n",
    "    T = schedule(T)\n",
    "    if T < 0.0001:\n",
    "        print()\n",
    "        break\n",
    "    else:\n",
    "        next_ = random_succesor(current)\n",
    "        delta_E = fitness(current) - fitness(next_)\n",
    "        if delta_E >= 0:\n",
    "            current = next_\n",
    "        else:\n",
    "            if random.random() <= math.exp(delta_E * 500 / T):\n",
    "                current = next_\n",
    "                \n",
    "current\n",
    "    \n",
    "    "
   ]
  }
 ],
 "metadata": {
  "kernelspec": {
   "display_name": "Python 3",
   "language": "python",
   "name": "python3"
  },
  "language_info": {
   "codemirror_mode": {
    "name": "ipython",
    "version": 3
   },
   "file_extension": ".py",
   "mimetype": "text/x-python",
   "name": "python",
   "nbconvert_exporter": "python",
   "pygments_lexer": "ipython3",
   "version": "3.6.9"
  }
 },
 "nbformat": 4,
 "nbformat_minor": 1
}
